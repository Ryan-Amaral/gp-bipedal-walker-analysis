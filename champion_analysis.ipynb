{
 "cells": [
  {
   "cell_type": "markdown",
   "metadata": {},
   "source": [
    "# Champion Analysis\n",
    "Analysis of metrics obtained from saved champions of the various runs.\n",
    "\n",
    "## Imports and General Setup"
   ]
  },
  {
   "cell_type": "code",
   "execution_count": 1,
   "metadata": {},
   "outputs": [],
   "source": [
    "import pickle\n",
    "import matplotlib.pyplot as plt\n",
    "import numpy as np\n",
    "from tpg.agent import Agent, loadAgent\n",
    "from tpg.utils import pathDepths, actionInstructionStats, learnerInstructionStats, getLearners, getTeams\n",
    "import gym\n",
    "from numpy import append, clip, mean\n",
    "from math import sin, cos, pi\n",
    "from copy import deepcopy\n",
    "from IPython import display\n",
    "import matplotlib\n",
    "\n",
    "def set_axis_style(ax, labels):\n",
    "    ax.xaxis.set_tick_params(direction='out')\n",
    "    ax.xaxis.set_ticks_position('bottom')\n",
    "    ax.set_xticks(np.arange(1, len(labels) + 1))\n",
    "    ax.set_xticklabels(labels)\n",
    "    ax.set_xlim(0.25, len(labels) + 0.75)\n",
    "    ax.set_xlabel('Run Type')\n",
    "    \n",
    "ops = [\"ADD\", \"SUB\", \"MULT\", \"DIV\", \"NEG\", \"COS\"]"
   ]
  },
  {
   "cell_type": "markdown",
   "metadata": {},
   "source": [
    "### Load in Champions/Agents and their 1000 Episode Results"
   ]
  },
  {
   "cell_type": "code",
   "execution_count": 2,
   "metadata": {},
   "outputs": [],
   "source": [
    "gp1_agent = loadAgent(\"run-data/gp/1/agent.pkl\")\n",
    "gp2_agent = loadAgent(\"run-data/gp/2/agent.pkl\")\n",
    "gp3_agent = loadAgent(\"run-data/gp/3/agent.pkl\") \n",
    "gp4_agent = loadAgent(\"run-data/gp/4/agent.pkl\") # best \n",
    "gp5_agent = loadAgent(\"run-data/gp/5/agent.pkl\")\n",
    "gp_agents = [gp1_agent, gp2_agent, gp3_agent, gp4_agent, gp5_agent]\n",
    "\n",
    "tpgsbb1_agent = loadAgent(\"run-data/tpgsbb/1/agent.pkl\")\n",
    "tpgsbb2_agent = loadAgent(\"run-data/tpgsbb/2/agent.pkl\")\n",
    "tpgsbb3_agent = loadAgent(\"run-data/tpgsbb/3/agent.pkl\") # best\n",
    "tpgsbb4_agent = loadAgent(\"run-data/tpgsbb/4/agent.pkl\")\n",
    "tpgsbb5_agent = loadAgent(\"run-data/tpgsbb/5/agent.pkl\")\n",
    "tpgsbb_agents = [tpgsbb1_agent, tpgsbb2_agent, tpgsbb3_agent, tpgsbb4_agent, tpgsbb5_agent]\n",
    "\n",
    "# save scores over 1000 episodes\n",
    "gp1 = pickle.load(open(\"run-data/gp/1/agent-reset-scores-2.pkl\", \"rb\"))\n",
    "gp2 = pickle.load(open(\"run-data/gp/2/agent-reset-scores-2.pkl\", \"rb\"))\n",
    "gp3 = pickle.load(open(\"run-data/gp/3/agent-reset-scores-2.pkl\", \"rb\"))\n",
    "gp4 = pickle.load(open(\"run-data/gp/4/agent-reset-scores-2.pkl\", \"rb\"))\n",
    "gp5 = pickle.load(open(\"run-data/gp/5/agent-reset-scores-2.pkl\", \"rb\"))\n",
    "gp = gp1 + gp2 + gp3 + gp4 + gp5\n",
    "gps = [gp1, gp2, gp3, gp4, gp5]\n",
    "\n",
    "tpgsbb1 = pickle.load(open(\"run-data/tpgsbb/1/agent-reset-scores-2.pkl\", \"rb\"))\n",
    "tpgsbb2 = pickle.load(open(\"run-data/tpgsbb/2/agent-reset-scores-2.pkl\", \"rb\"))\n",
    "tpgsbb3 = pickle.load(open(\"run-data/tpgsbb/3/agent-reset-scores-2.pkl\", \"rb\"))\n",
    "tpgsbb4 = pickle.load(open(\"run-data/tpgsbb/4/agent-reset-scores-2.pkl\", \"rb\"))\n",
    "tpgsbb5 = pickle.load(open(\"run-data/tpgsbb/5/agent-reset-scores-2.pkl\", \"rb\"))\n",
    "tpgsbb = tpgsbb1 + tpgsbb2 + tpgsbb3 + tpgsbb4 + tpgsbb5\n",
    "tpgsbbs = [tpgsbb1, tpgsbb2, tpgsbb3, tpgsbb4, tpgsbb5]"
   ]
  },
  {
   "cell_type": "markdown",
   "metadata": {},
   "source": [
    "## Plot of Agents' Performances"
   ]
  },
  {
   "cell_type": "code",
   "execution_count": 3,
   "metadata": {},
   "outputs": [
    {
     "data": {
      "image/png": "[encoded data removed]",
      "text/plain": [
       "<Figure size 432x288 with 1 Axes>"
      ]
     },
     "metadata": {},
     "output_type": "display_data"
    }
   ],
   "source": [
    "ax = plt.axes()\n",
    "\n",
    "plt.violinplot((gp, tpgsbb), showmedians=True, points=5000)\n",
    "\n",
    "plt.title(\"Champion Scores\")\n",
    "plt.xlabel(\"Run Type\")\n",
    "plt.ylabel(\"Score\")\n",
    "\n",
    "set_axis_style(ax, [\"GP\", \"TPG+SBB\"])\n",
    "\n",
    "plt.savefig(\"images/champ-scores.pdf\")\n",
    "plt.show()"
   ]
  },
  {
   "cell_type": "markdown",
   "metadata": {},
   "source": [
    "## Overview of Agents' Performances and Structures\n",
    "\n",
    "### GP"
   ]
  },
  {
   "cell_type": "code",
   "execution_count": 4,
   "metadata": {
    "scrolled": true
   },
   "outputs": [
    {
     "name": "stdout",
     "output_type": "stream",
     "text": [
      "GP 1\n",
      "\n",
      "Scores:\n",
      "Mean Score: 222.5888608626568\n",
      "Std Score: 85.89577708208998\n",
      "\n",
      "Structure:\n",
      "Act Instructions: {'overall': {'total': 32, 'min': 32, 'max': 32, 'avg': 32.0}, 'ADD': {'total': 6, 'min': 6, 'max': 6, 'avg': 6.0}, 'SUB': {'total': 6, 'min': 6, 'max': 6, 'avg': 6.0}, 'MULT': {'total': 5, 'min': 5, 'max': 5, 'avg': 5.0}, 'DIV': {'total': 7, 'min': 7, 'max': 7, 'avg': 7.0}, 'NEG': {'total': 3, 'min': 3, 'max': 3, 'avg': 3.0}, 'COS': {'total': 5, 'min': 5, 'max': 5, 'avg': 5.0}, 'numActPrograms': 1}\n",
      "\n",
      "\n",
      "GP 2\n",
      "\n",
      "Scores:\n",
      "Mean Score: 142.56266317357625\n",
      "Std Score: 96.69776455371526\n",
      "\n",
      "Structure:\n",
      "Act Instructions: {'overall': {'total': 33, 'min': 33, 'max': 33, 'avg': 33.0}, 'ADD': {'total': 4, 'min': 4, 'max': 4, 'avg': 4.0}, 'SUB': {'total': 5, 'min': 5, 'max': 5, 'avg': 5.0}, 'MULT': {'total': 10, 'min': 10, 'max': 10, 'avg': 10.0}, 'DIV': {'total': 5, 'min': 5, 'max': 5, 'avg': 5.0}, 'NEG': {'total': 4, 'min': 4, 'max': 4, 'avg': 4.0}, 'COS': {'total': 5, 'min': 5, 'max': 5, 'avg': 5.0}, 'numActPrograms': 1}\n",
      "\n",
      "\n",
      "GP 3\n",
      "\n",
      "Scores:\n",
      "Mean Score: 178.37772441621414\n",
      "Std Score: 39.92333728810886\n",
      "\n",
      "Structure:\n",
      "Act Instructions: {'overall': {'total': 17, 'min': 17, 'max': 17, 'avg': 17.0}, 'ADD': {'total': 5, 'min': 5, 'max': 5, 'avg': 5.0}, 'SUB': {'total': 2, 'min': 2, 'max': 2, 'avg': 2.0}, 'MULT': {'total': 3, 'min': 3, 'max': 3, 'avg': 3.0}, 'DIV': {'total': 2, 'min': 2, 'max': 2, 'avg': 2.0}, 'NEG': {'total': 3, 'min': 3, 'max': 3, 'avg': 3.0}, 'COS': {'total': 2, 'min': 2, 'max': 2, 'avg': 2.0}, 'numActPrograms': 1}\n",
      "\n",
      "\n",
      "GP 4\n",
      "\n",
      "Scores:\n",
      "Mean Score: 283.60270474342605\n",
      "Std Score: 59.07380623177705\n",
      "\n",
      "Structure:\n",
      "Act Instructions: {'overall': {'total': 72, 'min': 72, 'max': 72, 'avg': 72.0}, 'ADD': {'total': 9, 'min': 9, 'max': 9, 'avg': 9.0}, 'SUB': {'total': 13, 'min': 13, 'max': 13, 'avg': 13.0}, 'MULT': {'total': 17, 'min': 17, 'max': 17, 'avg': 17.0}, 'DIV': {'total': 14, 'min': 14, 'max': 14, 'avg': 14.0}, 'NEG': {'total': 10, 'min': 10, 'max': 10, 'avg': 10.0}, 'COS': {'total': 9, 'min': 9, 'max': 9, 'avg': 9.0}, 'numActPrograms': 1}\n",
      "\n",
      "\n",
      "GP 5\n",
      "\n",
      "Scores:\n",
      "Mean Score: 169.2119273038488\n",
      "Std Score: 27.88247010584022\n",
      "\n",
      "Structure:\n",
      "Act Instructions: {'overall': {'total': 16, 'min': 16, 'max': 16, 'avg': 16.0}, 'ADD': {'total': 4, 'min': 4, 'max': 4, 'avg': 4.0}, 'SUB': {'total': 2, 'min': 2, 'max': 2, 'avg': 2.0}, 'MULT': {'total': 2, 'min': 2, 'max': 2, 'avg': 2.0}, 'DIV': {'total': 6, 'min': 6, 'max': 6, 'avg': 6.0}, 'NEG': {'total': 0, 'min': 0, 'max': 0, 'avg': 0.0}, 'COS': {'total': 2, 'min': 2, 'max': 2, 'avg': 2.0}, 'numActPrograms': 1}\n",
      "\n",
      "\n"
     ]
    }
   ],
   "source": [
    "for i in range(len(gps)):\n",
    "    print(f\"GP {i+1}\\n\")\n",
    "\n",
    "    print(\"Scores:\")\n",
    "    print(f\"Mean Score: {np.mean(gps[i])}\")\n",
    "    print(f\"Std Score: {np.std(gps[i])}\\n\")\n",
    "\n",
    "    print(\"Structure:\")\n",
    "    print(f\"Act Instructions: {actionInstructionStats(getLearners(gp_agents[i].team), ops)}\\n\\n\")"
   ]
  },
  {
   "cell_type": "markdown",
   "metadata": {},
   "source": [
    "### TPG+SBB"
   ]
  },
  {
   "cell_type": "code",
   "execution_count": 5,
   "metadata": {
    "scrolled": true
   },
   "outputs": [
    {
     "name": "stdout",
     "output_type": "stream",
     "text": [
      "TPG+SBB 1\n",
      "\n",
      "Scores:\n",
      "Mean Score: 230.91848998285917\n",
      "Std Score: 100.12648432386825\n",
      "\n",
      "Structure:\n",
      "Teams: 6\n",
      "Learners: 12\n",
      "Path Depths: [1, 2, 3, 4, 5, 6]\n",
      "\n",
      "Bid Instructions: {'overall': {'total': 366, 'min': 15, 'max': 57, 'avg': 30.5}, 'ADD': {'total': 56, 'min': 1, 'max': 9, 'avg': 4.666666666666667}, 'SUB': {'total': 72, 'min': 3, 'max': 12, 'avg': 6.0}, 'MULT': {'total': 57, 'min': 0, 'max': 9, 'avg': 4.75}, 'DIV': {'total': 58, 'min': 0, 'max': 9, 'avg': 4.833333333333333}, 'NEG': {'total': 62, 'min': 3, 'max': 9, 'avg': 5.166666666666667}, 'COS': {'total': 61, 'min': 2, 'max': 11, 'avg': 5.083333333333333}}\n",
      "\n",
      "Act Instructions: {'overall': {'total': 294, 'min': 7, 'max': 50, 'avg': 24.5}, 'ADD': {'total': 54, 'min': 1, 'max': 13, 'avg': 4.5}, 'SUB': {'total': 50, 'min': 0, 'max': 12, 'avg': 4.166666666666666}, 'MULT': {'total': 58, 'min': 1, 'max': 10, 'avg': 4.833333333333333}, 'DIV': {'total': 38, 'min': 2, 'max': 8, 'avg': 3.166666666666667}, 'NEG': {'total': 41, 'min': 1, 'max': 9, 'avg': 3.4166666666666665}, 'COS': {'total': 53, 'min': 2, 'max': 11, 'avg': 4.416666666666666}, 'numActPrograms': 7}\n",
      "\n",
      "\n",
      "TPG+SBB 2\n",
      "\n",
      "Scores:\n",
      "Mean Score: 264.0767073518986\n",
      "Std Score: 110.33045058268146\n",
      "\n",
      "Structure:\n",
      "Teams: 6\n",
      "Learners: 14\n",
      "Path Depths: [1, 2, 3, 4, 5, 6]\n",
      "\n",
      "Bid Instructions: {'overall': {'total': 577, 'min': 7, 'max': 62, 'avg': 41.21428571428571}, 'ADD': {'total': 94, 'min': 0, 'max': 12, 'avg': 6.714285714285714}, 'SUB': {'total': 79, 'min': 1, 'max': 13, 'avg': 5.642857142857143}, 'MULT': {'total': 85, 'min': 0, 'max': 10, 'avg': 6.071428571428571}, 'DIV': {'total': 100, 'min': 1, 'max': 12, 'avg': 7.142857142857142}, 'NEG': {'total': 93, 'min': 0, 'max': 11, 'avg': 6.642857142857143}, 'COS': {'total': 126, 'min': 1, 'max': 13, 'avg': 9.000000000000002}}\n",
      "\n",
      "Act Instructions: {'overall': {'total': 171, 'min': 4, 'max': 30, 'avg': 12.214285714285714}, 'ADD': {'total': 32, 'min': 1, 'max': 8, 'avg': 2.285714285714285}, 'SUB': {'total': 20, 'min': 1, 'max': 6, 'avg': 1.4285714285714284}, 'MULT': {'total': 35, 'min': 1, 'max': 6, 'avg': 2.5}, 'DIV': {'total': 43, 'min': 0, 'max': 9, 'avg': 3.071428571428571}, 'NEG': {'total': 17, 'min': 0, 'max': 3, 'avg': 1.2142857142857142}, 'COS': {'total': 24, 'min': 1, 'max': 5, 'avg': 1.714285714285714}, 'numActPrograms': 9}\n",
      "\n",
      "\n",
      "TPG+SBB 3\n",
      "\n",
      "Scores:\n",
      "Mean Score: 272.5805452792668\n",
      "Std Score: 50.8951012045978\n",
      "\n",
      "Structure:\n",
      "Teams: 3\n",
      "Learners: 6\n",
      "Path Depths: [1, 2, 3]\n",
      "\n",
      "Bid Instructions: {'overall': {'total': 166, 'min': 13, 'max': 62, 'avg': 27.66666666666667}, 'ADD': {'total': 34, 'min': 1, 'max': 11, 'avg': 5.666666666666667}, 'SUB': {'total': 25, 'min': 3, 'max': 7, 'avg': 4.166666666666667}, 'MULT': {'total': 25, 'min': 1, 'max': 8, 'avg': 4.166666666666666}, 'DIV': {'total': 29, 'min': 0, 'max': 14, 'avg': 4.833333333333334}, 'NEG': {'total': 22, 'min': 1, 'max': 9, 'avg': 3.6666666666666665}, 'COS': {'total': 31, 'min': 3, 'max': 13, 'avg': 5.166666666666666}}\n",
      "\n",
      "Act Instructions: {'overall': {'total': 109, 'min': 14, 'max': 45, 'avg': 18.166666666666664}, 'ADD': {'total': 20, 'min': 1, 'max': 9, 'avg': 3.3333333333333335}, 'SUB': {'total': 11, 'min': 1, 'max': 5, 'avg': 1.8333333333333333}, 'MULT': {'total': 22, 'min': 4, 'max': 8, 'avg': 3.666666666666666}, 'DIV': {'total': 21, 'min': 2, 'max': 9, 'avg': 3.5}, 'NEG': {'total': 16, 'min': 2, 'max': 9, 'avg': 2.6666666666666665}, 'COS': {'total': 19, 'min': 1, 'max': 9, 'avg': 3.166666666666667}, 'numActPrograms': 4}\n",
      "\n",
      "\n",
      "TPG+SBB 4\n",
      "\n",
      "Scores:\n",
      "Mean Score: 277.8211313469962\n",
      "Std Score: 55.758515560829\n",
      "\n",
      "Structure:\n",
      "Teams: 3\n",
      "Learners: 8\n",
      "Path Depths: [1, 2, 3]\n",
      "\n",
      "Bid Instructions: {'overall': {'total': 418, 'min': 17, 'max': 68, 'avg': 52.25}, 'ADD': {'total': 60, 'min': 0, 'max': 14, 'avg': 7.5}, 'SUB': {'total': 93, 'min': 5, 'max': 16, 'avg': 11.625}, 'MULT': {'total': 91, 'min': 5, 'max': 15, 'avg': 11.375}, 'DIV': {'total': 41, 'min': 2, 'max': 7, 'avg': 5.125}, 'NEG': {'total': 72, 'min': 2, 'max': 12, 'avg': 9.0}, 'COS': {'total': 61, 'min': 2, 'max': 10, 'avg': 7.625}}\n",
      "\n",
      "Act Instructions: {'overall': {'total': 38, 'min': 1, 'max': 12, 'avg': 4.75}, 'ADD': {'total': 5, 'min': 0, 'max': 2, 'avg': 0.625}, 'SUB': {'total': 7, 'min': 1, 'max': 2, 'avg': 0.875}, 'MULT': {'total': 1, 'min': 0, 'max': 1, 'avg': 0.125}, 'DIV': {'total': 8, 'min': 0, 'max': 3, 'avg': 1.0}, 'NEG': {'total': 8, 'min': 0, 'max': 3, 'avg': 1.0}, 'COS': {'total': 9, 'min': 0, 'max': 4, 'avg': 1.125}, 'numActPrograms': 6}\n",
      "\n",
      "\n",
      "TPG+SBB 5\n",
      "\n",
      "Scores:\n",
      "Mean Score: 256.631068969643\n",
      "Std Score: 48.31607838612741\n",
      "\n",
      "Structure:\n",
      "Teams: 3\n",
      "Learners: 7\n",
      "Path Depths: [1, 2, 3]\n",
      "\n",
      "Bid Instructions: {'overall': {'total': 135, 'min': 1, 'max': 53, 'avg': 19.28571428571429}, 'ADD': {'total': 16, 'min': 0, 'max': 9, 'avg': 2.2857142857142856}, 'SUB': {'total': 23, 'min': 0, 'max': 9, 'avg': 3.2857142857142856}, 'MULT': {'total': 19, 'min': 0, 'max': 7, 'avg': 2.714285714285714}, 'DIV': {'total': 27, 'min': 1, 'max': 10, 'avg': 3.8571428571428568}, 'NEG': {'total': 24, 'min': 0, 'max': 10, 'avg': 3.428571428571429}, 'COS': {'total': 26, 'min': 0, 'max': 10, 'avg': 3.7142857142857144}}\n",
      "\n",
      "Act Instructions: {'overall': {'total': 142, 'min': 11, 'max': 64, 'avg': 20.285714285714285}, 'ADD': {'total': 19, 'min': 1, 'max': 8, 'avg': 2.7142857142857144}, 'SUB': {'total': 21, 'min': 1, 'max': 8, 'avg': 3.0}, 'MULT': {'total': 23, 'min': 2, 'max': 11, 'avg': 3.285714285714285}, 'DIV': {'total': 27, 'min': 1, 'max': 13, 'avg': 3.857142857142857}, 'NEG': {'total': 25, 'min': 1, 'max': 13, 'avg': 3.571428571428571}, 'COS': {'total': 27, 'min': 2, 'max': 11, 'avg': 3.8571428571428568}, 'numActPrograms': 5}\n",
      "\n",
      "\n"
     ]
    }
   ],
   "source": [
    "for i in range(len(tpgsbb_agents)):\n",
    "    print(f\"TPG+SBB {i+1}\\n\")\n",
    "\n",
    "    print(\"Scores:\")\n",
    "    print(f\"Mean Score: {np.mean(tpgsbbs[i])}\")\n",
    "    print(f\"Std Score: {np.std(tpgsbbs[i])}\\n\")\n",
    "\n",
    "    print(\"Structure:\")\n",
    "    print(f\"Teams: {len(getTeams(tpgsbb_agents[i].team))}\")\n",
    "    print(f\"Learners: {len(getLearners(tpgsbb_agents[i].team))}\")\n",
    "    print(f\"Path Depths: {pathDepths(tpgsbb_agents[i].team)}\")\n",
    "\n",
    "    print(f\"\\nBid Instructions: {learnerInstructionStats(getLearners(tpgsbb_agents[i].team), ops)}\")\n",
    "    print(f\"\\nAct Instructions: {actionInstructionStats(getLearners(tpgsbb_agents[i].team), ops)}\\n\\n\")"
   ]
  },
  {
   "cell_type": "markdown",
   "metadata": {},
   "source": [
    "## Get Agent Runtime Metrics\n",
    "\n",
    "### Do Runs and Set Up Data Fields"
   ]
  },
  {
   "cell_type": "code",
   "execution_count": 6,
   "metadata": {},
   "outputs": [],
   "source": [
    "\"\"\"\n",
    "Check out some metrics of Agents actions during a run.\n",
    "\"\"\"\n",
    "\n",
    "def agent_paths(agent, frames=99999):\n",
    "\n",
    "    env = gym.make(\"BipedalWalker-v3\")\n",
    "    team_learner_visits_ids = {}\n",
    "    \n",
    "    paths = []\n",
    "\n",
    "    agent.configFunctionsSelf()\n",
    "    agent.zeroRegisters()\n",
    "\n",
    "    state = env.reset()\n",
    "    score = 0\n",
    "\n",
    "    for i in range(frames):\n",
    "\n",
    "        state = append(state, [2*sin(0.2*pi*i), 2*cos(0.2*pi*i),\n",
    "                            2*sin(0.1*pi*i), 2*cos(0.1*pi*i),\n",
    "                            2*sin(0.05*pi*i), 2*cos(0.05*pi*i)])\n",
    "\n",
    "        trace = {}\n",
    "\n",
    "        act = agent.act(state, path_trace=trace)[1]\n",
    "        act = clip(act, -1, 1)\n",
    "\n",
    "        # feedback from env\n",
    "        state, reward, is_done, _ = env.step(act)\n",
    "        score += reward\n",
    "        \n",
    "        paths.append(deepcopy(trace))\n",
    "\n",
    "        if is_done:\n",
    "            break # end early if losing state\n",
    "\n",
    "    env.close()\n",
    "    \n",
    "    print(\"Score: \", score)\n",
    "    print(\"Total frames: \", i)\n",
    "    \n",
    "    return paths\n"
   ]
  },
  {
   "cell_type": "code",
   "execution_count": 7,
   "metadata": {},
   "outputs": [
    {
     "name": "stdout",
     "output_type": "stream",
     "text": [
      "GP:\n"
     ]
    },
    {
     "name": "stderr",
     "output_type": "stream",
     "text": [
      "/home/ryan/anaconda3/lib/python3.6/site-packages/gym/logger.py:30: UserWarning: \u001b[33mWARN: Box bound precision lowered by casting to float32\u001b[0m\n",
      "  warnings.warn(colorize('%s: %s'%('WARN', msg % args), 'yellow'))\n"
     ]
    },
    {
     "name": "stdout",
     "output_type": "stream",
     "text": [
      "Score:  298.4510047851134\n",
      "Total frames:  1368\n",
      "TPG+SBB:\n"
     ]
    },
    {
     "name": "stderr",
     "output_type": "stream",
     "text": [
      "/home/ryan/anaconda3/lib/python3.6/site-packages/gym/logger.py:30: UserWarning: \u001b[33mWARN: Box bound precision lowered by casting to float32\u001b[0m\n",
      "  warnings.warn(colorize('%s: %s'%('WARN', msg % args), 'yellow'))\n"
     ]
    },
    {
     "name": "stdout",
     "output_type": "stream",
     "text": [
      "Score:  285.1811405682423\n",
      "Total frames:  1471\n"
     ]
    }
   ],
   "source": [
    "print(\"GP:\")\n",
    "gp_paths = agent_paths(gp4_agent)\n",
    "\n",
    "# gp stats\n",
    "gp_times = []\n",
    "gp_actions = []\n",
    "gp_n_act_instructions = []\n",
    "\n",
    "# save dict of learners by id\n",
    "gp_lrnr = getLearners(gp4_agent.team)[0]\n",
    "\n",
    "\n",
    "print(\"TPG+SBB:\")\n",
    "tpgsbb_paths = agent_paths(tpgsbb3_agent)\n",
    "\n",
    "# tpgsbb stats\n",
    "tpgsbb_times = []\n",
    "tpgsbb_actions = []\n",
    "tpgsbb_teams_vis = []\n",
    "tpgsbb_learners_vis = []\n",
    "tpgsbb_n_teams_vis = []\n",
    "tpgsbb_n_learners_vis = []\n",
    "tpgsbb_n_instructions = []\n",
    "tpgsbb_n_act_instructions = []\n",
    "\n",
    "# save dict of learners by id\n",
    "tpgsbb_lrnrs = {}\n",
    "for lrnr in getLearners(tpgsbb3_agent.team):\n",
    "    tpgsbb_lrnrs[str(lrnr.id)] = lrnr"
   ]
  },
  {
   "cell_type": "markdown",
   "metadata": {},
   "source": [
    "### Get the Data"
   ]
  },
  {
   "cell_type": "code",
   "execution_count": 8,
   "metadata": {},
   "outputs": [],
   "source": [
    "# get data from gp path\n",
    "for path in gp_paths:\n",
    "    gp_times.append(path[\"execution_time\"])\n",
    "    gp_actions.append(clip(path[\"final_action\"][1], -1, 1))\n",
    "    gp_n_act_instructions.append(len(\n",
    "        gp_lrnr.actionObj.program.instructions))\n",
    "\n",
    "# get data from tpg+sbb path\n",
    "for path in tpgsbb_paths:\n",
    "    tpgsbb_times.append(path[\"execution_time\"])\n",
    "    tpgsbb_actions.append(clip(path[\"final_action\"][1], -1, 1))\n",
    "    tpgsbb_teams_vis.append([])\n",
    "    tpgsbb_learners_vis.append([])\n",
    "    tpgsbb_n_instructions.append(0)\n",
    "    \n",
    "    for team_visit in path[\"path\"]:\n",
    "        tpgsbb_teams_vis[-1].append(team_visit[\"team_id\"])\n",
    "        \n",
    "        for learner_visit in team_visit[\"bids\"]:\n",
    "            tpgsbb_learners_vis[-1].append(learner_visit[\"learner_id\"])\n",
    "            tpgsbb_n_instructions[-1] += len(\n",
    "                tpgsbb_lrnrs[learner_visit[\"learner_id\"]].program.instructions)\n",
    "    \n",
    "    \n",
    "    tpgsbb_n_teams_vis.append(len(tpgsbb_teams_vis[-1]))\n",
    "    tpgsbb_n_learners_vis.append(len(tpgsbb_learners_vis[-1]))\n",
    "    tpgsbb_n_act_instructions.append(len(\n",
    "        tpgsbb_lrnrs[path[\"path\"][-1][\"top_learner\"]]\n",
    "            .actionObj.program.instructions))"
   ]
  },
  {
   "cell_type": "markdown",
   "metadata": {},
   "source": [
    "## Analyze Observation Space Usage in Programs"
   ]
  },
  {
   "cell_type": "code",
   "execution_count": 9,
   "metadata": {},
   "outputs": [
    {
     "name": "stdout",
     "output_type": "stream",
     "text": [
      "GP Observation Space Uses:\n",
      " {'Hull Angle': 0.041666666666666664, 'Hull Ang. Vel.': 0.041666666666666664, 'Velocity X': 0.041666666666666664, 'Velocity Y': 0.013888888888888888, 'Hip 1 Angle': 0.027777777777777776, 'Hip 1 Speed': 0.013888888888888888, 'Knee 1 Angle': 0, 'Knee 1 Speed': 0.027777777777777776, 'Leg 1 Contact': 0, 'Hip 2 Angle': 0.05555555555555555, 'Hip 2 Speed': 0.027777777777777776, 'Knee 2 Angle': 0, 'Knee 2 Speed': 0.027777777777777776, 'Leg 2 Contact': 0.013888888888888888, 'Lidar 1': 0, 'Lidar 2': 0.013888888888888888, 'Lidar 3': 0.013888888888888888, 'Lidar 4': 0.013888888888888888, 'Lidar 5': 0, 'Lidar 6': 0.013888888888888888, 'Lidar 7': 0.013888888888888888, 'Lidar 8': 0.027777777777777776, 'Lidar 9': 0, 'Lidar 10': 0.013888888888888888, 'Sin / 5': 0.013888888888888888, 'Cos / 5': 0.027777777777777776, 'Sin / 10': 0.041666666666666664, 'Cos / 10': 0, 'Sin / 20': 0.013888888888888888, 'Cos / 20': 0.013888888888888888} \n",
      "\n",
      "TPG+SBB Bid Observation Space Uses:\n",
      " {'Hull Angle': 0.0026881720430107525, 'Hull Ang. Vel.': 0, 'Velocity X': 0.0026881720430107525, 'Velocity Y': 0.012966476913345983, 'Hip 1 Angle': 0.03399231487466781, 'Hip 1 Speed': 0.023859974097165747, 'Knee 1 Angle': 0.0075901328273244775, 'Knee 1 Speed': 0.028139140271493213, 'Leg 1 Contact': 0.01027830487033523, 'Hip 2 Angle': 0.023237179487179488, 'Hip 2 Speed': 0.0026881720430107525, 'Knee 2 Angle': 0.047079197684036386, 'Knee 2 Speed': 0.0075901328273244775, 'Leg 2 Contact': 0.03682645101051173, 'Lidar 1': 0.021438172043010753, 'Lidar 2': 0.004901960784313725, 'Lidar 3': 0.018214812806843166, 'Lidar 4': 0.013104838709677418, 'Lidar 5': 0.021646185355862775, 'Lidar 6': 0.014705882352941176, 'Lidar 7': 0.021299810246679315, 'Lidar 8': 0.012492093611638203, 'Lidar 9': 0.00980392156862745, 'Lidar 10': 0.032539682539682535, 'Sin / 5': 0, 'Cos / 5': 0.028139140271493213, 'Sin / 10': 0.03744164332399626, 'Cos / 10': 0.0026881720430107525, 'Sin / 20': 0.04440898154133448, 'Cos / 20': 0.014705882352941176} \n",
      "\n",
      "TPG+SBB Act Observation Space Uses:\n",
      " {'Hull Angle': 0, 'Hull Ang. Vel.': 0, 'Velocity X': 0, 'Velocity Y': 0.014705882352941176, 'Hip 1 Angle': 0.05316742081447964, 'Hip 1 Speed': 0.014705882352941176, 'Knee 1 Angle': 0.014705882352941176, 'Knee 1 Speed': 0.05316742081447964, 'Leg 1 Contact': 0.014705882352941176, 'Hip 2 Angle': 0.038461538461538464, 'Hip 2 Speed': 0, 'Knee 2 Angle': 0.07692307692307693, 'Knee 2 Speed': 0.014705882352941176, 'Leg 2 Contact': 0.029411764705882353, 'Lidar 1': 0, 'Lidar 2': 0.014705882352941176, 'Lidar 3': 0.014705882352941176, 'Lidar 4': 0, 'Lidar 5': 0, 'Lidar 6': 0.044117647058823525, 'Lidar 7': 0.014705882352941176, 'Lidar 8': 0.029411764705882353, 'Lidar 9': 0.029411764705882353, 'Lidar 10': 0, 'Sin / 5': 0, 'Cos / 5': 0.05316742081447964, 'Sin / 10': 0.014705882352941176, 'Cos / 10': 0, 'Sin / 20': 0.05316742081447964, 'Cos / 20': 0.044117647058823525}\n"
     ]
    }
   ],
   "source": [
    "obs_labels = [\"Hull Angle\", \"Hull Ang. Vel.\", \"Velocity X\",\n",
    "              \"Velocity Y\", \"Hip 1 Angle\", \"Hip 1 Speed\", \n",
    "              \"Knee 1 Angle\", \"Knee 1 Speed\", \"Leg 1 Contact\", \n",
    "              \"Hip 2 Angle\", \"Hip 2 Speed\", \"Knee 2 Angle\",\n",
    "              \"Knee 2 Speed\", \"Leg 2 Contact\", \"Lidar 1\", \"Lidar 2\",\n",
    "              \"Lidar 3\", \"Lidar 4\", \"Lidar 5\", \"Lidar 6\", \"Lidar 7\",\n",
    "              \"Lidar 8\", \"Lidar 9\", \"Lidar 10\", \"Sin / 5\", \"Cos / 5\",\n",
    "              \"Sin / 10\", \"Cos / 10\", \"Sin / 20\", \"Cos / 20\"]\n",
    "\n",
    "src_to_obs = {}\n",
    "for i in range(len(obs_labels)):\n",
    "    src_to_obs[i] = obs_labels[i]\n",
    "    \n",
    "# get all data in numeric array form for visualization\n",
    "all_obs_data = []\n",
    "\n",
    "\"\"\"GP observation data\"\"\"\n",
    "\n",
    "# set up counts dict\n",
    "gp_counts = {}\n",
    "for key in src_to_obs.keys():\n",
    "    gp_counts[src_to_obs[key]] = 0\n",
    "\n",
    "# add instructions to counts\n",
    "instructions = gp_lrnr.actionObj.program.instructions\n",
    "for instruction in instructions:\n",
    "    if instruction[0] == 1:\n",
    "        gp_counts[src_to_obs[instruction[3]]] += 1 / len(instructions)\n",
    "    \n",
    "all_obs_data.append([])\n",
    "for label in obs_labels:\n",
    "    all_obs_data[-1].append(gp_counts[label])\n",
    "    \n",
    "print(\"GP Observation Space Uses:\\n\", gp_counts, \"\\n\")\n",
    "\n",
    "\"\"\"TPG+SBB observation data\"\"\"\n",
    "\n",
    "# get actually used bid and act learners\n",
    "tpgsbb_bid_learners = set()\n",
    "tpgsbb_act_learners = set()\n",
    "for l_list in tpgsbb_learners_vis:\n",
    "    for l in l_list:\n",
    "        tpgsbb_bid_learners.add(l)\n",
    "    tpgsbb_act_learners.add(l_list[-1])\n",
    "\n",
    "# set up counts dicts\n",
    "tpgsbb_bid_counts = {}\n",
    "tpgsbb_act_counts = {}\n",
    "for key in src_to_obs.keys():\n",
    "    tpgsbb_bid_counts[src_to_obs[key]] = 0\n",
    "    tpgsbb_act_counts[src_to_obs[key]] = 0\n",
    "\n",
    "# get the counts\n",
    "for l in tpgsbb_bid_learners:\n",
    "    instructions = tpgsbb_lrnrs[str(l)].program.instructions\n",
    "    for instruction in instructions:\n",
    "        if instruction[0] == 1:\n",
    "            tpgsbb_bid_counts[src_to_obs[instruction[3]]] += 1/len(tpgsbb_bid_learners)/len(instructions)\n",
    "        \n",
    "for l in tpgsbb_act_learners:\n",
    "    instructions = tpgsbb_lrnrs[str(l)].program.instructions\n",
    "    for instruction in instructions:\n",
    "        if instruction[0] == 1:\n",
    "            tpgsbb_act_counts[src_to_obs[instruction[3]]] += 1/len(tpgsbb_act_learners)/len(instructions)\n",
    "        \n",
    "all_obs_data.append([])\n",
    "for label in obs_labels:\n",
    "    all_obs_data[-1].append(tpgsbb_bid_counts[label])\n",
    "    \n",
    "all_obs_data.append([])\n",
    "for label in obs_labels:\n",
    "    all_obs_data[-1].append(tpgsbb_act_counts[label])\n",
    "    \n",
    "print(\"TPG+SBB Bid Observation Space Uses:\\n\", tpgsbb_bid_counts, \"\\n\")\n",
    "print(\"TPG+SBB Act Observation Space Uses:\\n\", tpgsbb_act_counts)\n",
    "\n",
    "all_obs_data = np.flip(np.array(all_obs_data), axis=0)"
   ]
  },
  {
   "cell_type": "code",
   "execution_count": 10,
   "metadata": {},
   "outputs": [
    {
     "data": {
      "image/png": "[encoded data removed]",
      "text/plain": [
       "<Figure size 1008x144 with 2 Axes>"
      ]
     },
     "metadata": {},
     "output_type": "display_data"
    }
   ],
   "source": [
    "plt.figure(figsize=(14,2))\n",
    "\n",
    "hm = plt.pcolor(all_obs_data)\n",
    "\n",
    "plt.xticks(np.arange(len(obs_labels))+0.5, rotation=75)\n",
    "hm.axes.set_xticklabels(obs_labels)\n",
    "\n",
    "plt.yticks(np.arange(len(all_obs_data))+0.5, rotation=0)\n",
    "hm.axes.set_yticklabels([\"TPG+SBB Act\", \"TPG+SBB Bid\", \n",
    "                         \"GP Act\"])\n",
    "\n",
    "for row in range(len(range(3))):\n",
    "    for col in range(len(obs_labels)):\n",
    "        if all_obs_data[row][col] > np.max(all_obs_data)/2:\n",
    "            plt.text(col+0.5, row+0.5, '%.2f' % all_obs_data[row][col],\n",
    "                 ha='center', va='center', color=\"black\",\n",
    "                    rotation=45)\n",
    "        else:\n",
    "            plt.text(col+0.5, row+0.5, '%.2f' % all_obs_data[row][col],\n",
    "                     ha='center', va='center', color=\"white\",\n",
    "                    rotation=45)\n",
    "\n",
    "plt.colorbar(hm)\n",
    "\n",
    "plt.xlabel(\"Observation\")\n",
    "plt.ylabel(\"Program Type\")\n",
    "plt.title(\"Probability of Observation Index per Instruction\")\n",
    "\n",
    "plt.savefig(\"images/champ-instruction-prob.pdf\", bbox_inches=\"tight\")\n",
    "plt.show()"
   ]
  },
  {
   "cell_type": "markdown",
   "metadata": {},
   "source": [
    "## Plots of Actions and Learners used over Time"
   ]
  },
  {
   "cell_type": "code",
   "execution_count": 11,
   "metadata": {},
   "outputs": [
    {
     "data": {
      "image/png": "[encoded data removed]",
      "text/plain": [
       "<Figure size 720x432 with 3 Axes>"
      ]
     },
     "metadata": {},
     "output_type": "display_data"
    }
   ],
   "source": [
    "\"\"\"\n",
    "Plot actions made over time, and what learner made that action.\n",
    "\"\"\"\n",
    "\n",
    "fig, (ax1, ax2) = plt.subplots(2,1, sharex=True, figsize=(10,6))\n",
    "\n",
    "\"\"\"\n",
    "GP\n",
    "\"\"\"\n",
    "\n",
    "action_pixels = np.repeat(np.array(gp_actions).T, (10,10,10,10), axis=0)[:,:201]\n",
    "\n",
    "ax1.imshow(action_pixels)\n",
    "ax1.set_yticks([5, 15, 25, 35])\n",
    "ax1.set_ylim(0,40)\n",
    "ax1.set_yticklabels([\"Hip #1\", \"Knee #1\", \"Hip #2\", \"Knee #2\"])\n",
    "ax1.set_title(\"GP\")\n",
    "ax1.set_xticks([])\n",
    "\n",
    "\"\"\"\n",
    "TPG+SBB\n",
    "\"\"\"\n",
    "\n",
    "# get all the learners that made an action each step\n",
    "action_learners = []\n",
    "al_uniques = set()\n",
    "for al_list in tpgsbb_learners_vis:\n",
    "    action_learners.append(al_list[-1])\n",
    "    al_uniques.add(al_list[-1])\n",
    "    \n",
    "action_learners = np.array(action_learners)\n",
    "# convert learner ids to value on heatmap\n",
    "for i, al in enumerate(al_uniques):\n",
    "    action_learners = np.where(action_learners==al, \n",
    "        ((i/len(al_uniques))*2)-1,\n",
    "        action_learners)\n",
    "    \n",
    "# make numeric\n",
    "action_learners = np.array(action_learners, dtype=float)\n",
    "\n",
    "# put together pixels from actions and learner selection\n",
    "action_pixels = np.repeat(\n",
    "    np.concatenate((np.array(tpgsbb_actions).T, (action_learners,))), \n",
    "    (10,10,10,10,10), axis=0)[:,:201]\n",
    "\n",
    "img = ax2.imshow(action_pixels, aspect=\"auto\")\n",
    "cb = fig.colorbar(img, ticks=[-1,0,1], orientation=\"horizontal\",\n",
    "                 aspect=50, pad=0.25)\n",
    "cb.set_label(\"Activation Level\")\n",
    "\n",
    "ax2.set_yticks([5, 15, 25, 35, 45])\n",
    "ax2.set_yticklabels([\"Hip #1\", \"Knee #1\", \"Hip #2\", \"Knee #2\", \"Learner\"])\n",
    "ax2.set_ylim(0,50)\n",
    "ax2.set_title(\"TPG+SBB\")\n",
    "ax2.set_xticks(range(0, 201, 10))\n",
    "ax2.set_xlabel(\"Frame\")\n",
    "\n",
    "plt.subplots_adjust(hspace=0)\n",
    "\n",
    "plt.savefig(\"images/champ-actions.pdf\", bbox_inches=\"tight\")\n",
    "plt.show()"
   ]
  },
  {
   "cell_type": "markdown",
   "metadata": {},
   "source": [
    "## Do/Capture Runs with Rendering"
   ]
  },
  {
   "cell_type": "code",
   "execution_count": 12,
   "metadata": {},
   "outputs": [],
   "source": [
    "\"\"\"\n",
    "Visualize a run.\n",
    "\"\"\"\n",
    "\n",
    "#%matplotlib inline\n",
    "\n",
    "# https://stackoverflow.com/questions/40195740/how-to-run-openai-gym-render-over-a-server\n",
    "def show_state(env, r_type, step=0):\n",
    "    plt.figure(3)\n",
    "    plt.clf()\n",
    "    plt.imshow(env.render(mode='rgb_array'))\n",
    "    #plt.title(\"%s | Step: %d %s\" % (\"BipedalWalker-v3\",step, info))\n",
    "    plt.axis('off')\n",
    "    \n",
    "    plt.savefig(f\"images/renders/{r_type}/frame-{step}.png\")\n",
    "\n",
    "    display.clear_output(wait=True)\n",
    "    display.display(plt.gcf())\n",
    "\n",
    "def do_run(agent, r_type, frames=99999):\n",
    "\n",
    "    env = gym.make(\"BipedalWalker-v3\")\n",
    "\n",
    "    agent.configFunctionsSelf()\n",
    "    agent.zeroRegisters()\n",
    "\n",
    "    state = env.reset()\n",
    "    score = 0\n",
    "\n",
    "    for i in range(frames):\n",
    "        \n",
    "        show_state(env, r_type, i)\n",
    "        #screen = env.render()#mode=\"rgb_array\")\n",
    "\n",
    "        state = append(state, [2*sin(0.2*pi*i), 2*cos(0.2*pi*i),\n",
    "                            2*sin(0.1*pi*i), 2*cos(0.1*pi*i),\n",
    "                            2*sin(0.05*pi*i), 2*cos(0.05*pi*i)])\n",
    "\n",
    "        act = agent.act(state)[1]\n",
    "        act = clip(act, -1, 1)\n",
    "\n",
    "        # feedback from env\n",
    "        state, reward, is_done, _ = env.step(act)\n",
    "        score += reward\n",
    "\n",
    "        if is_done:\n",
    "            break # end early if losing state\n",
    "\n",
    "    env.close()\n",
    "    \n",
    "    print(\"Score: \", score)\n",
    "    print(\"Total frames: \", i)"
   ]
  },
  {
   "cell_type": "code",
   "execution_count": 13,
   "metadata": {},
   "outputs": [],
   "source": [
    "#%matplotlib inline\n",
    "#do_run(gp4_agent, r_type=\"gp\", frames=200)"
   ]
  },
  {
   "cell_type": "code",
   "execution_count": 14,
   "metadata": {},
   "outputs": [
    {
     "name": "stdout",
     "output_type": "stream",
     "text": [
      "Using matplotlib backend: Qt5Agg\n"
     ]
    }
   ],
   "source": [
    "# turn graphing back to normal\n",
    "%matplotlib auto"
   ]
  },
  {
   "cell_type": "code",
   "execution_count": null,
   "metadata": {},
   "outputs": [],
   "source": []
  },
  {
   "cell_type": "code",
   "execution_count": null,
   "metadata": {},
   "outputs": [],
   "source": []
  },
  {
   "cell_type": "code",
   "execution_count": null,
   "metadata": {},
   "outputs": [],
   "source": [
    "\n",
    "\n",
    "\n",
    "\n",
    "\n",
    "\n",
    "\n",
    "\n",
    "\n",
    "\n",
    "\n",
    "\n",
    "\n",
    "\n",
    "\n",
    "\n",
    "\n",
    "\n",
    "\n",
    "\n",
    "\n",
    "\n",
    "\n",
    "\n",
    "\n",
    "\n",
    "\n",
    "\n",
    "\n",
    "\n",
    "\n",
    "\n",
    "\n",
    "\n",
    "\n",
    "\n",
    "\n",
    "\n",
    "\n",
    "\n",
    "\n",
    "\n",
    "\n",
    "\n",
    "\n",
    "\n",
    "\n",
    "\n",
    "\n",
    "\n",
    "\n",
    "\n",
    "\n",
    "\n",
    "\n",
    "\n",
    "\n",
    "\n",
    "\n",
    "\n",
    "\n",
    "\n",
    "\n",
    "\n",
    "\n"
   ]
  }
 ],
 "metadata": {
  "kernelspec": {
   "display_name": "Python 3",
   "language": "python",
   "name": "python3"
  },
  "language_info": {
   "codemirror_mode": {
    "name": "ipython",
    "version": 3
   },
   "file_extension": ".py",
   "mimetype": "text/x-python",
   "name": "python",
   "nbconvert_exporter": "python",
   "pygments_lexer": "ipython3",
   "version": "3.6.5"
  }
 },
 "nbformat": 4,
 "nbformat_minor": 2
}
