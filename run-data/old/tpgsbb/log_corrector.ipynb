{
 "cells": [
  {
   "cell_type": "code",
   "execution_count": 42,
   "metadata": {},
   "outputs": [
    {
     "name": "stdout",
     "output_type": "stream",
     "text": [
      "438\n"
     ]
    }
   ],
   "source": [
    "import pandas as pd\n",
    "import copy\n",
    "\n",
    "outfile = \"1/log.csv\"\n",
    "\n",
    "df_tpg = pd.read_csv(\"1/log-tpg.csv\").rename(columns=lambda x: x.strip())\n",
    "df_sbb = pd.read_csv(\"1/log-sbb.csv\").rename(columns=lambda x: x.strip())\n",
    "df_out = pd.DataFrame([[0,0,0,0,0,0,0,0,0,0,0,0,0,0,0,0,0,0,0,0,0,0]], columns=df_tpg.columns)\n",
    "\n",
    "sbb_gens = df_sbb[\"gen\"].unique()\n",
    "\n",
    "print(df_sbb[df_sbb[\"gen\"] == sbb_gens[0]][\"gen_b\"].max())"
   ]
  },
  {
   "cell_type": "code",
   "execution_count": null,
   "metadata": {},
   "outputs": [],
   "source": [
    "line = [gen, gen_time, fit_min, fit_max, fit_avg, champ_id, \n",
    "        champ_mean, champ_std, champ_teams, champ_learners, \n",
    "        champ_instructions, champ_act_instructions, \n",
    "        champ_real_acts, pop_roots, pop_teams, pop_learners,\n",
    "        0, 0, b_teams, b_learners, 0, 0]"
   ]
  },
  {
   "cell_type": "code",
   "execution_count": 39,
   "metadata": {
    "scrolled": true
   },
   "outputs": [
    {
     "data": {
      "text/html": [
       "<div>\n",
       "<style scoped>\n",
       "    .dataframe tbody tr th:only-of-type {\n",
       "        vertical-align: middle;\n",
       "    }\n",
       "\n",
       "    .dataframe tbody tr th {\n",
       "        vertical-align: top;\n",
       "    }\n",
       "\n",
       "    .dataframe thead th {\n",
       "        text-align: right;\n",
       "    }\n",
       "</style>\n",
       "<table border=\"1\" class=\"dataframe\">\n",
       "  <thead>\n",
       "    <tr style=\"text-align: right;\">\n",
       "      <th></th>\n",
       "      <th>gen</th>\n",
       "      <th>gen_time</th>\n",
       "      <th>fitness_min</th>\n",
       "      <th>fitness_max</th>\n",
       "      <th>fitness_avg</th>\n",
       "      <th>champ_id</th>\n",
       "      <th>champ_mean</th>\n",
       "      <th>champ_std</th>\n",
       "      <th>champ_teams</th>\n",
       "      <th>champ_learners</th>\n",
       "      <th>...</th>\n",
       "      <th>champ_real_acts</th>\n",
       "      <th>pop_roots</th>\n",
       "      <th>pop_teams</th>\n",
       "      <th>pop_learners</th>\n",
       "      <th>hh_learners_removed</th>\n",
       "      <th>hh_teams_affected</th>\n",
       "      <th>b_teams</th>\n",
       "      <th>b_learners</th>\n",
       "      <th>b_teams_new</th>\n",
       "      <th>b_learners_new</th>\n",
       "    </tr>\n",
       "  </thead>\n",
       "  <tbody>\n",
       "    <tr>\n",
       "      <th>0</th>\n",
       "      <td>0</td>\n",
       "      <td>0.000000</td>\n",
       "      <td>0.0</td>\n",
       "      <td>0.0</td>\n",
       "      <td>0.00000</td>\n",
       "      <td>0</td>\n",
       "      <td>0.000000</td>\n",
       "      <td>0.00000</td>\n",
       "      <td>0</td>\n",
       "      <td>0</td>\n",
       "      <td>...</td>\n",
       "      <td>0</td>\n",
       "      <td>0</td>\n",
       "      <td>0</td>\n",
       "      <td>0</td>\n",
       "      <td>0</td>\n",
       "      <td>0</td>\n",
       "      <td>0</td>\n",
       "      <td>0</td>\n",
       "      <td>0</td>\n",
       "      <td>0</td>\n",
       "    </tr>\n",
       "    <tr>\n",
       "      <th>0</th>\n",
       "      <td>0</td>\n",
       "      <td>143.684203</td>\n",
       "      <td>-33.0</td>\n",
       "      <td>-33.0</td>\n",
       "      <td>-111.92267</td>\n",
       "      <td>3412903a-a70e-4878-a635-95f0565fe751</td>\n",
       "      <td>-3.723547</td>\n",
       "      <td>0.50726</td>\n",
       "      <td>1</td>\n",
       "      <td>2</td>\n",
       "      <td>...</td>\n",
       "      <td>2</td>\n",
       "      <td>360</td>\n",
       "      <td>360</td>\n",
       "      <td>720</td>\n",
       "      <td>-1</td>\n",
       "      <td>-1</td>\n",
       "      <td>3</td>\n",
       "      <td>9</td>\n",
       "      <td>3</td>\n",
       "      <td>9</td>\n",
       "    </tr>\n",
       "  </tbody>\n",
       "</table>\n",
       "<p>2 rows × 22 columns</p>\n",
       "</div>"
      ],
      "text/plain": [
       "   gen    gen_time  fitness_min  fitness_max  fitness_avg  \\\n",
       "0    0    0.000000          0.0          0.0      0.00000   \n",
       "0    0  143.684203        -33.0        -33.0   -111.92267   \n",
       "\n",
       "                                champ_id  champ_mean  champ_std  champ_teams  \\\n",
       "0                                      0    0.000000    0.00000            0   \n",
       "0   3412903a-a70e-4878-a635-95f0565fe751   -3.723547    0.50726            1   \n",
       "\n",
       "   champ_learners  ...  champ_real_acts  pop_roots  pop_teams  pop_learners  \\\n",
       "0               0  ...                0          0          0             0   \n",
       "0               2  ...                2        360        360           720   \n",
       "\n",
       "   hh_learners_removed  hh_teams_affected  b_teams  b_learners  b_teams_new  \\\n",
       "0                    0                  0        0           0            0   \n",
       "0                   -1                 -1        3           9            3   \n",
       "\n",
       "   b_learners_new  \n",
       "0               0  \n",
       "0               9  \n",
       "\n",
       "[2 rows x 22 columns]"
      ]
     },
     "execution_count": 39,
     "metadata": {},
     "output_type": "execute_result"
    }
   ],
   "source": [
    "df_tmp = pd.DataFrame([[0,0,0,0,0,0,0,0,0,0,0,0,0,0,0,0,0,0,0,0,0,0]], columns=df_tpg.columns)\n",
    "df_tmp = df_tmp.append(df_tpg.iloc[0])\n",
    "df_tmp.iloc[1, 2:4] = -33\n",
    "df_tmp.head()\n",
    "#df_tmp.head()\n",
    "#df_tpg.iloc[0]\n",
    "\n",
    "#df_tpg.loc[len(([[-1,1,1,1,1,1,1,1,1,1,1,1,1,1,1,1,1,1,1,1,1,1]])\n",
    "#df_tpg.tail()"
   ]
  },
  {
   "cell_type": "code",
   "execution_count": 49,
   "metadata": {},
   "outputs": [
    {
     "name": "stdout",
     "output_type": "stream",
     "text": [
      "gen                             0\n",
      "gen_time                  143.684\n",
      "fitness_min                     0\n",
      "fitness_max                   -33\n",
      "fitness_avg                     0\n",
      "champ_id                        0\n",
      "champ_mean               -3.72355\n",
      "champ_std                 0.50726\n",
      "champ_teams                     1\n",
      "champ_learners                  2\n",
      "champ_instructions             64\n",
      "champ_act_instructions         62\n",
      "champ_real_acts                 2\n",
      "pop_roots                     360\n",
      "pop_teams                     360\n",
      "pop_learners                  720\n",
      "hh_learners_removed            -1\n",
      "hh_teams_affected              -1\n",
      "b_teams                         3\n",
      "b_learners                      9\n",
      "b_teams_new                     3\n",
      "b_learners_new                  9\n",
      "Name: 0, dtype: object\n",
      "gen                                                           0\n",
      "gen_time                                                143.684\n",
      "fitness_min                                                 -33\n",
      "fitness_max                                                 -33\n",
      "fitness_avg                                            -111.923\n",
      "champ_id                   3412903a-a70e-4878-a635-95f0565fe751\n",
      "champ_mean                                             -3.72355\n",
      "champ_std                                               0.50726\n",
      "champ_teams                                                   1\n",
      "champ_learners                                                2\n",
      "champ_instructions                                           64\n",
      "champ_act_instructions                                       62\n",
      "champ_real_acts                                               2\n",
      "pop_roots                                                   360\n",
      "pop_teams                                                   360\n",
      "pop_learners                                                720\n",
      "hh_learners_removed                                          -1\n",
      "hh_teams_affected                                            -1\n",
      "b_teams                                                       3\n",
      "b_learners                                                    9\n",
      "b_teams_new                                                   3\n",
      "b_learners_new                                                9\n",
      "Name: 0, dtype: object\n"
     ]
    },
    {
     "name": "stderr",
     "output_type": "stream",
     "text": [
      "/home/ryan/anaconda3/lib/python3.6/site-packages/pandas/core/indexing.py:670: SettingWithCopyWarning: \n",
      "A value is trying to be set on a copy of a slice from a DataFrame\n",
      "\n",
      "See the caveats in the documentation: https://pandas.pydata.org/pandas-docs/stable/user_guide/indexing.html#returning-a-view-versus-a-copy\n",
      "  iloc._setitem_with_indexer(indexer, value)\n",
      "/home/ryan/anaconda3/lib/python3.6/site-packages/ipykernel_launcher.py:2: SettingWithCopyWarning: \n",
      "A value is trying to be set on a copy of a slice from a DataFrame\n",
      "\n",
      "See the caveats in the documentation: https://pandas.pydata.org/pandas-docs/stable/user_guide/indexing.html#returning-a-view-versus-a-copy\n",
      "  \n"
     ]
    }
   ],
   "source": [
    "l2 = df_tmp.iloc[-1]\n",
    "l2.iloc[[2,4,5]] = 0\n",
    "print(l2)\n",
    "print(df_tmp.iloc[-1])"
   ]
  },
  {
   "cell_type": "code",
   "execution_count": 5,
   "metadata": {},
   "outputs": [
    {
     "ename": "ValueError",
     "evalue": "cannot delete array elements",
     "output_type": "error",
     "traceback": [
      "\u001b[0;31m---------------------------------------------------------------------------\u001b[0m",
      "\u001b[0;31mValueError\u001b[0m                                Traceback (most recent call last)",
      "\u001b[0;32m<ipython-input-5-05811c37d88c>\u001b[0m in \u001b[0;36m<module>\u001b[0;34m()\u001b[0m\n\u001b[1;32m      5\u001b[0m     \u001b[0;32mif\u001b[0m \u001b[0mlen\u001b[0m\u001b[0;34m(\u001b[0m\u001b[0msbb_gens\u001b[0m\u001b[0;34m)\u001b[0m \u001b[0;34m>\u001b[0m \u001b[0;36m0\u001b[0m \u001b[0;32mand\u001b[0m \u001b[0mn_lines\u001b[0m \u001b[0;32min\u001b[0m \u001b[0msbb_gens\u001b[0m\u001b[0;34m:\u001b[0m\u001b[0;34m\u001b[0m\u001b[0m\n\u001b[1;32m      6\u001b[0m         \u001b[0mcur_sbb_gens\u001b[0m \u001b[0;34m=\u001b[0m \u001b[0msbb_gens\u001b[0m\u001b[0;34m[\u001b[0m\u001b[0;36m0\u001b[0m\u001b[0;34m]\u001b[0m\u001b[0;34m\u001b[0m\u001b[0m\n\u001b[0;32m----> 7\u001b[0;31m         \u001b[0;32mdel\u001b[0m \u001b[0msbb_gens\u001b[0m\u001b[0;34m[\u001b[0m\u001b[0;36m0\u001b[0m\u001b[0;34m]\u001b[0m\u001b[0;34m\u001b[0m\u001b[0m\n\u001b[0m\u001b[1;32m      8\u001b[0m         \u001b[0;32mfor\u001b[0m \u001b[0mi\u001b[0m \u001b[0;32min\u001b[0m \u001b[0mrange\u001b[0m\u001b[0;34m(\u001b[0m\u001b[0mcur_sbb_gens\u001b[0m\u001b[0;34m)\u001b[0m\u001b[0;34m:\u001b[0m\u001b[0;34m\u001b[0m\u001b[0m\n\u001b[1;32m      9\u001b[0m             \u001b[0;32mpass\u001b[0m\u001b[0;34m\u001b[0m\u001b[0m\n",
      "\u001b[0;31mValueError\u001b[0m: cannot delete array elements"
     ]
    }
   ],
   "source": [
    "# construct log line by line\n",
    "n_lines = 0\n",
    "while True:\n",
    "    # copy last TPG gen line for current SBB run\n",
    "    if len(sbb_gens) > 0 and n_lines in sbb_gens:\n",
    "        cur_sbb_gens = df_sbb[df_sbb[\"gen\"] == sbb_gens[0]][\"gen_b\"].max()\n",
    "        del sbb_gens[0]\n",
    "        for i in range(cur_sbb_gens):\n",
    "            d\n"
   ]
  },
  {
   "cell_type": "code",
   "execution_count": null,
   "metadata": {},
   "outputs": [],
   "source": []
  }
 ],
 "metadata": {
  "kernelspec": {
   "display_name": "Python 3",
   "language": "python",
   "name": "python3"
  },
  "language_info": {
   "codemirror_mode": {
    "name": "ipython",
    "version": 3
   },
   "file_extension": ".py",
   "mimetype": "text/x-python",
   "name": "python",
   "nbconvert_exporter": "python",
   "pygments_lexer": "ipython3",
   "version": "3.6.5"
  }
 },
 "nbformat": 4,
 "nbformat_minor": 2
}
